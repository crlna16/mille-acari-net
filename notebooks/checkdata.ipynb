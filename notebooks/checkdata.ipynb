{
 "cells": [
  {
   "cell_type": "code",
   "execution_count": null,
   "id": "47ab7d8a",
   "metadata": {},
   "outputs": [],
   "source": [
    "import sys\n",
    "import logging\n",
    "from omegaconf import OmegaConf\n",
    "\n",
    "import numpy as np\n",
    "\n",
    "import torch\n",
    "import lightning as L\n",
    "\n",
    "from lightning.pytorch.callbacks import EarlyStopping\n",
    "\n",
    "from matplotlib import pyplot as plt\n",
    "\n",
    "sys.path.append(\"..\")\n",
    "\n",
    "from src.milleacarinet.datamodule import MilleAcariDataModule\n",
    "from src.milleacarinet.model import MilleAcariNet, YoloV5Backbone\n",
    "from src.milleacarinet.utils import create_logger"
   ]
  },
  {
   "cell_type": "code",
   "execution_count": null,
   "id": "0fb13784",
   "metadata": {},
   "outputs": [],
   "source": [
    "config_file = OmegaConf.load(\"../configs/train.yaml\")\n",
    "config = OmegaConf.to_object(config_file)"
   ]
  },
  {
   "cell_type": "code",
   "execution_count": null,
   "id": "c7ad6d84",
   "metadata": {},
   "outputs": [],
   "source": [
    "datamodule = MilleAcariDataModule(batch_size=2, max_samples=100, images_dir=\"../data/images\", labels_dir=\"../data/labels\")\n",
    "datamodule.setup(stage='fit')"
   ]
  },
  {
   "cell_type": "code",
   "execution_count": null,
   "id": "a651bd7e",
   "metadata": {},
   "outputs": [],
   "source": [
    "itr = iter(datamodule.train_ds)\n",
    "\n",
    "fig, ax = plt.subplots(10, 4, figsize=(20, 30))\n",
    "ax = ax.flatten()\n",
    "\n",
    "for i, (x, y) in enumerate(itr):\n",
    "    if i >= 40:\n",
    "        break\n",
    "    print(x.shape, y.shape)\n",
    "    ax[i].imshow(x.numpy().transpose(1, 2, 0))\n",
    "    ax[i].scatter(y[:,0]*512, y[:,1]*512, s=10, c='r')"
   ]
  },
  {
   "cell_type": "code",
   "execution_count": null,
   "id": "39cccb36",
   "metadata": {},
   "outputs": [],
   "source": [
    "from matplotlib import pyplot as plt\n",
    "\n",
    "fig, ax = plt.subplots(1, 2, figsize=(10, 5))\n",
    "ax[0].imshow(x.numpy().transpose(1, 2, 0))\n",
    "ax[1].imshow(x.numpy().transpose(1, 2, 0))\n",
    "ax[1].scatter(y[:,0] * 512, y[:, 1] * 512, c='r', s=10)"
   ]
  },
  {
   "cell_type": "code",
   "execution_count": null,
   "id": "7f14d0ab",
   "metadata": {},
   "outputs": [],
   "source": [
    "a = np.arange(10)\n",
    "np.random.permutation(a, 20)"
   ]
  },
  {
   "cell_type": "code",
   "execution_count": null,
   "id": "6235bf7a",
   "metadata": {},
   "outputs": [],
   "source": [
    "pred = np.load(\"../prediction.npy\")\n",
    "pred.shape\n",
    "\n",
    "fig, ax = plt.subplots(1, 3, figsize=(15, 5))\n",
    "ax[0].imshow(pred[0].transpose(1, 2, 0))\n",
    "ax[1].imshow(pred[1].transpose(1, 2, 0))\n",
    "ax[2].imshow(pred[2].transpose(1, 2, 0))"
   ]
  },
  {
   "cell_type": "code",
   "execution_count": null,
   "id": "28cb9f85",
   "metadata": {},
   "outputs": [],
   "source": []
  }
 ],
 "metadata": {
  "kernelspec": {
   "display_name": ".venv",
   "language": "python",
   "name": "python3"
  },
  "language_info": {
   "codemirror_mode": {
    "name": "ipython",
    "version": 3
   },
   "file_extension": ".py",
   "mimetype": "text/x-python",
   "name": "python",
   "nbconvert_exporter": "python",
   "pygments_lexer": "ipython3",
   "version": "3.12.5"
  }
 },
 "nbformat": 4,
 "nbformat_minor": 5
}
